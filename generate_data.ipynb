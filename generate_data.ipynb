{
 "cells": [
  {
   "cell_type": "code",
   "execution_count": 1,
   "metadata": {},
   "outputs": [],
   "source": [
    "import pandas as pd\n",
    "import numpy as np\n",
    "from sklearn.neighbors import NearestNeighbors"
   ]
  },
  {
   "cell_type": "markdown",
   "metadata": {},
   "source": [
    "### read raw data & data cleaning"
   ]
  },
  {
   "cell_type": "code",
   "execution_count": 11,
   "metadata": {},
   "outputs": [
    {
     "data": {
      "text/plain": [
       "(8556, 370237)"
      ]
     },
     "execution_count": 11,
     "metadata": {},
     "output_type": "execute_result"
    }
   ],
   "source": [
    "df = pd.read_csv('./raw_data.csv')\n",
    "df = df.dropna()\n",
    "\n",
    "df = df[df['SchoolID'].notna()]\n",
    "df = df[df['grade'].notna()]\n",
    "df = df[df['class'].notna()]\n",
    "df['classID'] = df['SchoolID'].astype(int).astype(str) + '-' + df['grade'].astype(int).astype(str) + '-' + df['class'].astype(str)\n",
    "\n",
    "df = df[df['age'] <= 18]\n",
    "df = df.groupby('classID').filter(lambda x: len(x) <= 100)\n",
    "df = df.groupby('classID').filter(lambda x: len(x) >= 10)\n",
    "numeric_vars = ['PMH', 'SWLS', 'BLS', 'siblings', 'bo', 'BMI', 'drink', 'smoke', 'shs', 'PEI', 'NEI', 'sfsc', 'sssc', 'OBSES', 'chat', 'ecf', 'sleep', 'rise', 'ST', 'sport', 'screen', 'game', 'video', 'book', 'friends', 'myopia']\n",
    "num_classes = df['classID'].unique().shape[0]\n",
    "num_students = df.shape[0]\n",
    "\n",
    "num_classes, num_students"
   ]
  },
  {
   "cell_type": "markdown",
   "metadata": {},
   "source": [
    "### find neighbor"
   ]
  },
  {
   "cell_type": "code",
   "execution_count": 12,
   "metadata": {},
   "outputs": [],
   "source": [
    "neighbor_idx = np.empty([num_classes], dtype='object')\n",
    "neighbor_dep = np.empty([num_classes], dtype='object')\n",
    "\n",
    "def standardize(df):\n",
    "    return (df - df.min()) / (df.max() - df.min() + 0.00001)\n",
    "\n",
    "df_by_class = df.groupby('classID')\n",
    "class_idx = 0\n",
    "for idx, class_df in df_by_class:\n",
    "    class_df_std = standardize(class_df[numeric_vars])\n",
    "    num_neighbors = int(class_df.shape[0] / 10)\n",
    "    knn = NearestNeighbors()\n",
    "    knn.fit(class_df_std)\n",
    "    result = knn.kneighbors(class_df_std, n_neighbors=num_neighbors+1, return_distance=False)\n",
    "\n",
    "    def map_idx(idx):\n",
    "        return class_df.index[idx]\n",
    "    vec = np.vectorize(map_idx)\n",
    "    result = vec(result)    \n",
    "\n",
    "    def map_dep(idx):\n",
    "        return df.loc[idx, 'DEP']\n",
    "    vec = np.vectorize(map_dep)\n",
    "    dep_result = vec(result)\n",
    "    \n",
    "    neighbor_idx[class_idx] = result\n",
    "    neighbor_dep[class_idx] = dep_result\n",
    "    class_idx += 1"
   ]
  },
  {
   "cell_type": "markdown",
   "metadata": {},
   "source": [
    "### generate local Moran's I"
   ]
  },
  {
   "cell_type": "code",
   "execution_count": 13,
   "metadata": {},
   "outputs": [],
   "source": [
    "student_data = df.copy()\n",
    "student_data['local_moran'] = 0\n",
    "\n",
    "indi_dep_mean = df['DEP'].mean()\n",
    "for cla_idx, cla in enumerate(neighbor_idx):\n",
    "    for stu_idx, stu in enumerate(neighbor_idx[cla_idx]):\n",
    "        deps = neighbor_dep[cla_idx][stu_idx]\n",
    "        moran = (deps[0] - indi_dep_mean) * (deps[1:] - indi_dep_mean).mean()\n",
    "        student_data.loc[stu[0], 'local_moran'] = moran"
   ]
  },
  {
   "cell_type": "code",
   "execution_count": 16,
   "metadata": {},
   "outputs": [
    {
     "data": {
      "text/plain": [
       "(-6.8118121039119215,\n",
       " 20.063702768993817,\n",
       " 0.5496989947679892,\n",
       " 1.3740310043895567)"
      ]
     },
     "execution_count": 16,
     "metadata": {},
     "output_type": "execute_result"
    }
   ],
   "source": [
    "student_data['local_moran'].min(), student_data['local_moran'].max(), student_data['local_moran'].mean(), student_data['local_moran'].std()"
   ]
  },
  {
   "cell_type": "markdown",
   "metadata": {},
   "source": [
    "### generate classroom Moran's I"
   ]
  },
  {
   "cell_type": "code",
   "execution_count": 17,
   "metadata": {},
   "outputs": [],
   "source": [
    "df_by_class = student_data.groupby('classID')\n",
    "class_data = df_by_class.mean()\n",
    "class_data['class_size'] = df_by_class.size().tolist()"
   ]
  },
  {
   "cell_type": "code",
   "execution_count": 20,
   "metadata": {},
   "outputs": [],
   "source": [
    "class_idx = 0\n",
    "tmp = np.zeros([num_classes])\n",
    "for idx, class_df in df_by_class:\n",
    "    mean = class_df['DEP'].mean()\n",
    "    var = class_df['DEP'].var() * (class_df.shape[0] - 1) + 0.00001\n",
    "    sum = (class_df.shape[0]) * (int(class_df.shape[0] / 10))\n",
    "\n",
    "    total_var = 0\n",
    "    for idx, row in enumerate(neighbor_dep[class_idx]):\n",
    "        total_var += (row[0] - mean) *(row[1:].sum() - (class_df.shape[1] - 1)*mean)\n",
    "    moran = (class_df.shape[0] / sum) * (total_var / var)\n",
    "\n",
    "    tmp[class_idx] = moran\n",
    "    class_idx += 1\n",
    "\n",
    "tmp[np.isnan(tmp)] = 0\n",
    "class_data['moran'] = tmp"
   ]
  },
  {
   "cell_type": "code",
   "execution_count": 21,
   "metadata": {},
   "outputs": [],
   "source": [
    "class_data['classID'] = class_data.index"
   ]
  },
  {
   "cell_type": "markdown",
   "metadata": {},
   "source": [
    "### save data with Moran's I"
   ]
  },
  {
   "cell_type": "code",
   "execution_count": 19,
   "metadata": {},
   "outputs": [],
   "source": [
    "student_data.to_csv('./student_data2.csv', index=False)\n",
    "class_data.to_csv('./class_data2.csv', index=False)"
   ]
  }
 ],
 "metadata": {
  "kernelspec": {
   "display_name": "Python 3.10.4 ('DataAnalysis')",
   "language": "python",
   "name": "python3"
  },
  "language_info": {
   "codemirror_mode": {
    "name": "ipython",
    "version": 3
   },
   "file_extension": ".py",
   "mimetype": "text/x-python",
   "name": "python",
   "nbconvert_exporter": "python",
   "pygments_lexer": "ipython3",
   "version": "3.10.4"
  },
  "orig_nbformat": 4,
  "vscode": {
   "interpreter": {
    "hash": "a94c9b7beef39587b93b61100320384db3b77b9f7478832db8cc1a4821a5ce6e"
   }
  }
 },
 "nbformat": 4,
 "nbformat_minor": 2
}
